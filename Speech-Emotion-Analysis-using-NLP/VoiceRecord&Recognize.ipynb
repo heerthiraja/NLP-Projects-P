{
 "cells": [
  {
   "cell_type": "code",
   "execution_count": 1,
   "metadata": {},
   "outputs": [
    {
     "name": "stderr",
     "output_type": "stream",
     "text": [
      "Using TensorFlow backend.\n",
      "c:\\users\\shanm\\appdata\\local\\programs\\python\\python37\\lib\\site-packages\\tensorflow\\python\\framework\\dtypes.py:516: FutureWarning: Passing (type, 1) or '1type' as a synonym of type is deprecated; in a future version of numpy, it will be understood as (type, (1,)) / '(1,)type'.\n",
      "  _np_qint8 = np.dtype([(\"qint8\", np.int8, 1)])\n",
      "c:\\users\\shanm\\appdata\\local\\programs\\python\\python37\\lib\\site-packages\\tensorflow\\python\\framework\\dtypes.py:517: FutureWarning: Passing (type, 1) or '1type' as a synonym of type is deprecated; in a future version of numpy, it will be understood as (type, (1,)) / '(1,)type'.\n",
      "  _np_quint8 = np.dtype([(\"quint8\", np.uint8, 1)])\n",
      "c:\\users\\shanm\\appdata\\local\\programs\\python\\python37\\lib\\site-packages\\tensorflow\\python\\framework\\dtypes.py:518: FutureWarning: Passing (type, 1) or '1type' as a synonym of type is deprecated; in a future version of numpy, it will be understood as (type, (1,)) / '(1,)type'.\n",
      "  _np_qint16 = np.dtype([(\"qint16\", np.int16, 1)])\n",
      "c:\\users\\shanm\\appdata\\local\\programs\\python\\python37\\lib\\site-packages\\tensorflow\\python\\framework\\dtypes.py:519: FutureWarning: Passing (type, 1) or '1type' as a synonym of type is deprecated; in a future version of numpy, it will be understood as (type, (1,)) / '(1,)type'.\n",
      "  _np_quint16 = np.dtype([(\"quint16\", np.uint16, 1)])\n",
      "c:\\users\\shanm\\appdata\\local\\programs\\python\\python37\\lib\\site-packages\\tensorflow\\python\\framework\\dtypes.py:520: FutureWarning: Passing (type, 1) or '1type' as a synonym of type is deprecated; in a future version of numpy, it will be understood as (type, (1,)) / '(1,)type'.\n",
      "  _np_qint32 = np.dtype([(\"qint32\", np.int32, 1)])\n",
      "c:\\users\\shanm\\appdata\\local\\programs\\python\\python37\\lib\\site-packages\\tensorflow\\python\\framework\\dtypes.py:525: FutureWarning: Passing (type, 1) or '1type' as a synonym of type is deprecated; in a future version of numpy, it will be understood as (type, (1,)) / '(1,)type'.\n",
      "  np_resource = np.dtype([(\"resource\", np.ubyte, 1)])\n",
      "c:\\users\\shanm\\appdata\\local\\programs\\python\\python37\\lib\\site-packages\\tensorboard\\compat\\tensorflow_stub\\dtypes.py:541: FutureWarning: Passing (type, 1) or '1type' as a synonym of type is deprecated; in a future version of numpy, it will be understood as (type, (1,)) / '(1,)type'.\n",
      "  _np_qint8 = np.dtype([(\"qint8\", np.int8, 1)])\n",
      "c:\\users\\shanm\\appdata\\local\\programs\\python\\python37\\lib\\site-packages\\tensorboard\\compat\\tensorflow_stub\\dtypes.py:542: FutureWarning: Passing (type, 1) or '1type' as a synonym of type is deprecated; in a future version of numpy, it will be understood as (type, (1,)) / '(1,)type'.\n",
      "  _np_quint8 = np.dtype([(\"quint8\", np.uint8, 1)])\n",
      "c:\\users\\shanm\\appdata\\local\\programs\\python\\python37\\lib\\site-packages\\tensorboard\\compat\\tensorflow_stub\\dtypes.py:543: FutureWarning: Passing (type, 1) or '1type' as a synonym of type is deprecated; in a future version of numpy, it will be understood as (type, (1,)) / '(1,)type'.\n",
      "  _np_qint16 = np.dtype([(\"qint16\", np.int16, 1)])\n",
      "c:\\users\\shanm\\appdata\\local\\programs\\python\\python37\\lib\\site-packages\\tensorboard\\compat\\tensorflow_stub\\dtypes.py:544: FutureWarning: Passing (type, 1) or '1type' as a synonym of type is deprecated; in a future version of numpy, it will be understood as (type, (1,)) / '(1,)type'.\n",
      "  _np_quint16 = np.dtype([(\"quint16\", np.uint16, 1)])\n",
      "c:\\users\\shanm\\appdata\\local\\programs\\python\\python37\\lib\\site-packages\\tensorboard\\compat\\tensorflow_stub\\dtypes.py:545: FutureWarning: Passing (type, 1) or '1type' as a synonym of type is deprecated; in a future version of numpy, it will be understood as (type, (1,)) / '(1,)type'.\n",
      "  _np_qint32 = np.dtype([(\"qint32\", np.int32, 1)])\n",
      "c:\\users\\shanm\\appdata\\local\\programs\\python\\python37\\lib\\site-packages\\tensorboard\\compat\\tensorflow_stub\\dtypes.py:550: FutureWarning: Passing (type, 1) or '1type' as a synonym of type is deprecated; in a future version of numpy, it will be understood as (type, (1,)) / '(1,)type'.\n",
      "  np_resource = np.dtype([(\"resource\", np.ubyte, 1)])\n"
     ]
    },
    {
     "name": "stdout",
     "output_type": "stream",
     "text": [
      "WARNING:tensorflow:From c:\\users\\shanm\\appdata\\local\\programs\\python\\python37\\lib\\site-packages\\keras\\backend\\tensorflow_backend.py:517: The name tf.placeholder is deprecated. Please use tf.compat.v1.placeholder instead.\n",
      "\n",
      "WARNING:tensorflow:From c:\\users\\shanm\\appdata\\local\\programs\\python\\python37\\lib\\site-packages\\keras\\backend\\tensorflow_backend.py:4138: The name tf.random_uniform is deprecated. Please use tf.random.uniform instead.\n",
      "\n",
      "WARNING:tensorflow:From c:\\users\\shanm\\appdata\\local\\programs\\python\\python37\\lib\\site-packages\\keras\\backend\\tensorflow_backend.py:3976: The name tf.nn.max_pool is deprecated. Please use tf.nn.max_pool2d instead.\n",
      "\n",
      "WARNING:tensorflow:From c:\\users\\shanm\\appdata\\local\\programs\\python\\python37\\lib\\site-packages\\keras\\backend\\tensorflow_backend.py:131: The name tf.get_default_graph is deprecated. Please use tf.compat.v1.get_default_graph instead.\n",
      "\n",
      "WARNING:tensorflow:From c:\\users\\shanm\\appdata\\local\\programs\\python\\python37\\lib\\site-packages\\keras\\backend\\tensorflow_backend.py:133: The name tf.placeholder_with_default is deprecated. Please use tf.compat.v1.placeholder_with_default instead.\n",
      "\n",
      "WARNING:tensorflow:From c:\\users\\shanm\\appdata\\local\\programs\\python\\python37\\lib\\site-packages\\keras\\backend\\tensorflow_backend.py:3445: calling dropout (from tensorflow.python.ops.nn_ops) with keep_prob is deprecated and will be removed in a future version.\n",
      "Instructions for updating:\n",
      "Please use `rate` instead of `keep_prob`. Rate should be set to `rate = 1 - keep_prob`.\n",
      "WARNING:tensorflow:From c:\\users\\shanm\\appdata\\local\\programs\\python\\python37\\lib\\site-packages\\keras\\backend\\tensorflow_backend.py:174: The name tf.get_default_session is deprecated. Please use tf.compat.v1.get_default_session instead.\n",
      "\n",
      "WARNING:tensorflow:From c:\\users\\shanm\\appdata\\local\\programs\\python\\python37\\lib\\site-packages\\keras\\optimizers.py:790: The name tf.train.Optimizer is deprecated. Please use tf.compat.v1.train.Optimizer instead.\n",
      "\n",
      "WARNING:tensorflow:From c:\\users\\shanm\\appdata\\local\\programs\\python\\python37\\lib\\site-packages\\tensorflow\\python\\ops\\math_grad.py:1250: add_dispatch_support.<locals>.wrapper (from tensorflow.python.ops.array_ops) is deprecated and will be removed in a future version.\n",
      "Instructions for updating:\n",
      "Use tf.where in 2.0, which has the same broadcast rule as np.where\n"
     ]
    }
   ],
   "source": [
    "from keras.models import load_model\n",
    "import librosa\n",
    "import IPython.display as ipd\n",
    "import numpy as np\n",
    "model = load_model(\"voiceRecModel.hdf5\")"
   ]
  },
  {
   "cell_type": "code",
   "execution_count": 6,
   "metadata": {},
   "outputs": [
    {
     "name": "stdout",
     "output_type": "stream",
     "text": [
      "start\n",
      "end\n"
     ]
    }
   ],
   "source": [
    "import sounddevice as sd\n",
    "import soundfile as sf\n",
    "samplerate = 16000  \n",
    "duration = 1 # seconds\n",
    "filename = 'voiceRec.wav'\n",
    "print(\"start\")\n",
    "mydata = sd.rec(int(samplerate * duration), samplerate=samplerate,\n",
    "    channels=1, blocking=True)\n",
    "print(\"end\")\n",
    "sd.wait()\n",
    "sf.write(filename, mydata, samplerate)"
   ]
  },
  {
   "cell_type": "code",
   "execution_count": 7,
   "metadata": {},
   "outputs": [
    {
     "data": {
      "text/html": [
       "\n",
       "                <audio  controls=\"controls\" >\n",
       "                    <source src=\"data:audio/wav;base64,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\" type=\"audio/wav\" />\n",
       "                    Your browser does not support the audio element.\n",
       "                </audio>\n",
       "              "
      ],
      "text/plain": [
       "<IPython.lib.display.Audio object>"
      ]
     },
     "execution_count": 7,
     "metadata": {},
     "output_type": "execute_result"
    }
   ],
   "source": [
    "samples, sample_rate = librosa.load(filename, sr = 16000)\n",
    "samples = librosa.resample(samples, sample_rate, 8000)\n",
    "ipd.Audio(samples,rate=8000)"
   ]
  },
  {
   "cell_type": "code",
   "execution_count": 8,
   "metadata": {},
   "outputs": [
    {
     "data": {
      "text/plain": [
       "'cat'"
      ]
     },
     "execution_count": 8,
     "metadata": {},
     "output_type": "execute_result"
    }
   ],
   "source": [
    "classes=[\"bed\", \"bird\", \"cat\", \"dog\", \"down\", \"eight\", \"five\", \"four\"]\n",
    "def predict(audio):\n",
    "    prob=model.predict(audio.reshape(1,8000,1))\n",
    "    index=np.argmax(prob[0])\n",
    "    return classes[index]\n",
    "predict(samples)"
   ]
  },
  {
   "cell_type": "code",
   "execution_count": null,
   "metadata": {},
   "outputs": [],
   "source": []
  }
 ],
 "metadata": {
  "kernelspec": {
   "display_name": "Python 3 (ipykernel)",
   "language": "python",
   "name": "python3"
  },
  "language_info": {
   "codemirror_mode": {
    "name": "ipython",
    "version": 3
   },
   "file_extension": ".py",
   "mimetype": "text/x-python",
   "name": "python",
   "nbconvert_exporter": "python",
   "pygments_lexer": "ipython3",
   "version": "3.7.8"
  }
 },
 "nbformat": 4,
 "nbformat_minor": 4
}
