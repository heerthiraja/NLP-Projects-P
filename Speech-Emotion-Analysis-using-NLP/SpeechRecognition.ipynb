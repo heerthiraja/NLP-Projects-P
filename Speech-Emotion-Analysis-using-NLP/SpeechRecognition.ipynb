{
 "cells": [
  {
   "cell_type": "code",
   "execution_count": 1,
   "metadata": {},
   "outputs": [],
   "source": [
    "import os #directory\n",
    "import librosa #handling audio\n",
    "import IPython.display as ipd #to listen audio\n",
    "import matplotlib.pyplot as plt #graph\n",
    "import numpy as np #array\n",
    "from scipy.io import wavfile #audio wav file"
   ]
  },
  {
   "cell_type": "code",
   "execution_count": 4,
   "metadata": {},
   "outputs": [
    {
     "name": "stdout",
     "output_type": "stream",
     "text": [
      "16000\n"
     ]
    }
   ],
   "source": [
    "trainDir = 'train/'\n",
    "samples, sample_rate = librosa.load(trainDir+'bed/00176480_nohash_0.wav', sr = 16000)\n",
    "ipd.Audio(samples, rate=sample_rate)\n",
    "print(sample_rate)"
   ]
  },
  {
   "cell_type": "code",
   "execution_count": 5,
   "metadata": {},
   "outputs": [
    {
     "data": {
      "text/html": [
       "\n",
       "                <audio  controls=\"controls\" >\n",
       "                    <source src=\"data:audio/wav;base64,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\" type=\"audio/wav\" />\n",
       "                    Your browser does not support the audio element.\n",
       "                </audio>\n",
       "              "
      ],
      "text/plain": [
       "<IPython.lib.display.Audio object>"
      ]
     },
     "execution_count": 5,
     "metadata": {},
     "output_type": "execute_result"
    }
   ],
   "source": [
    "samples = librosa.resample(samples, sample_rate, 8000)\n",
    "ipd.Audio(samples, rate=8000)"
   ]
  },
  {
   "cell_type": "code",
   "execution_count": 6,
   "metadata": {},
   "outputs": [
    {
     "data": {
      "text/plain": [
       "['bed', 'bird', 'cat', 'dog', 'down', 'eight', 'five', 'four']"
      ]
     },
     "execution_count": 6,
     "metadata": {},
     "output_type": "execute_result"
    }
   ],
   "source": [
    "labels=os.listdir(trainDir)\n",
    "labels"
   ]
  },
  {
   "cell_type": "code",
   "execution_count": 7,
   "metadata": {},
   "outputs": [],
   "source": [
    "no_of_recordings=[]\n",
    "for label in labels:\n",
    "    waves = [f for f in os.listdir(trainDir + '/'+ label) if f.endswith('.wav')]\n",
    "    no_of_recordings.append(len(waves))"
   ]
  },
  {
   "cell_type": "code",
   "execution_count": 8,
   "metadata": {},
   "outputs": [],
   "source": [
    "labels=[\"bed\", \"bird\", \"cat\", \"dog\", \"down\", \"eight\", \"five\", \"four\"]"
   ]
  },
  {
   "cell_type": "code",
   "execution_count": 9,
   "metadata": {},
   "outputs": [
    {
     "data": {
      "text/plain": [
       "(array([2.0000e+00, 6.0000e+00, 4.2000e+01, 2.6000e+01, 9.0000e+01,\n",
       "        1.5600e+02, 2.3300e+02, 1.9800e+02, 3.4800e+02, 1.3522e+04]),\n",
       " array([0.384 , 0.4456, 0.5072, 0.5688, 0.6304, 0.692 , 0.7536, 0.8152,\n",
       "        0.8768, 0.9384, 1.    ]),\n",
       " <BarContainer object of 10 artists>)"
      ]
     },
     "execution_count": 9,
     "metadata": {},
     "output_type": "execute_result"
    },
    {
     "data": {
      "image/png": "[encoded data removed]",
      "text/plain": [
       "<Figure size 432x288 with 1 Axes>"
      ]
     },
     "metadata": {
      "needs_background": "light"
     },
     "output_type": "display_data"
    }
   ],
   "source": [
    "duration_of_recordings=[]\n",
    "for label in labels:\n",
    "    waves = [f for f in os.listdir(trainDir + '/'+ label) if f.endswith('.wav')]\n",
    "    for wav in waves:\n",
    "        sample_rate, samples = wavfile.read(trainDir + '/' + label + '/' + wav)\n",
    "        duration_of_recordings.append(float(len(samples)/sample_rate))\n",
    "    \n",
    "plt.hist(np.array(duration_of_recordings))"
   ]
  },
  {
   "cell_type": "code",
   "execution_count": 10,
   "metadata": {},
   "outputs": [
    {
     "name": "stdout",
     "output_type": "stream",
     "text": [
      "bed\n",
      "bird\n",
      "cat\n",
      "dog\n",
      "down\n",
      "eight\n",
      "five\n",
      "four\n"
     ]
    }
   ],
   "source": [
    "trainDir = 'train/'\n",
    "all_wave = []\n",
    "all_label = []\n",
    "for label in labels:\n",
    "    print(label)\n",
    "    waves = [f for f in os.listdir(trainDir + '/'+ label) if f.endswith('.wav')]\n",
    "    for wav in waves:\n",
    "        samples, sample_rate = librosa.load(trainDir + '/' + label + '/' + wav, sr = 16000)\n",
    "        samples = librosa.resample(samples, sample_rate, 8000)\n",
    "        if(len(samples)== 8000) : \n",
    "            all_wave.append(samples)\n",
    "            all_label.append(label)"
   ]
  },
  {
   "cell_type": "code",
   "execution_count": 11,
   "metadata": {},
   "outputs": [
    {
     "name": "stdout",
     "output_type": "stream",
     "text": [
      "['bed', 'bird', 'cat', 'dog', 'down', 'eight', 'five', 'four']\n"
     ]
    }
   ],
   "source": [
    "from sklearn.preprocessing import LabelEncoder\n",
    "le = LabelEncoder()\n",
    "y=le.fit_transform(all_label)\n",
    "classes= list(le.classes_)\n",
    "print(classes)"
   ]
  },
  {
   "cell_type": "code",
   "execution_count": 12,
   "metadata": {},
   "outputs": [
    {
     "name": "stderr",
     "output_type": "stream",
     "text": [
      "Using TensorFlow backend.\n",
      "c:\\users\\shanm\\appdata\\local\\programs\\python\\python37\\lib\\site-packages\\tensorflow\\python\\framework\\dtypes.py:516: FutureWarning: Passing (type, 1) or '1type' as a synonym of type is deprecated; in a future version of numpy, it will be understood as (type, (1,)) / '(1,)type'.\n",
      "  _np_qint8 = np.dtype([(\"qint8\", np.int8, 1)])\n",
      "c:\\users\\shanm\\appdata\\local\\programs\\python\\python37\\lib\\site-packages\\tensorflow\\python\\framework\\dtypes.py:517: FutureWarning: Passing (type, 1) or '1type' as a synonym of type is deprecated; in a future version of numpy, it will be understood as (type, (1,)) / '(1,)type'.\n",
      "  _np_quint8 = np.dtype([(\"quint8\", np.uint8, 1)])\n",
      "c:\\users\\shanm\\appdata\\local\\programs\\python\\python37\\lib\\site-packages\\tensorflow\\python\\framework\\dtypes.py:518: FutureWarning: Passing (type, 1) or '1type' as a synonym of type is deprecated; in a future version of numpy, it will be understood as (type, (1,)) / '(1,)type'.\n",
      "  _np_qint16 = np.dtype([(\"qint16\", np.int16, 1)])\n",
      "c:\\users\\shanm\\appdata\\local\\programs\\python\\python37\\lib\\site-packages\\tensorflow\\python\\framework\\dtypes.py:519: FutureWarning: Passing (type, 1) or '1type' as a synonym of type is deprecated; in a future version of numpy, it will be understood as (type, (1,)) / '(1,)type'.\n",
      "  _np_quint16 = np.dtype([(\"quint16\", np.uint16, 1)])\n",
      "c:\\users\\shanm\\appdata\\local\\programs\\python\\python37\\lib\\site-packages\\tensorflow\\python\\framework\\dtypes.py:520: FutureWarning: Passing (type, 1) or '1type' as a synonym of type is deprecated; in a future version of numpy, it will be understood as (type, (1,)) / '(1,)type'.\n",
      "  _np_qint32 = np.dtype([(\"qint32\", np.int32, 1)])\n",
      "c:\\users\\shanm\\appdata\\local\\programs\\python\\python37\\lib\\site-packages\\tensorflow\\python\\framework\\dtypes.py:525: FutureWarning: Passing (type, 1) or '1type' as a synonym of type is deprecated; in a future version of numpy, it will be understood as (type, (1,)) / '(1,)type'.\n",
      "  np_resource = np.dtype([(\"resource\", np.ubyte, 1)])\n",
      "c:\\users\\shanm\\appdata\\local\\programs\\python\\python37\\lib\\site-packages\\tensorboard\\compat\\tensorflow_stub\\dtypes.py:541: FutureWarning: Passing (type, 1) or '1type' as a synonym of type is deprecated; in a future version of numpy, it will be understood as (type, (1,)) / '(1,)type'.\n",
      "  _np_qint8 = np.dtype([(\"qint8\", np.int8, 1)])\n",
      "c:\\users\\shanm\\appdata\\local\\programs\\python\\python37\\lib\\site-packages\\tensorboard\\compat\\tensorflow_stub\\dtypes.py:542: FutureWarning: Passing (type, 1) or '1type' as a synonym of type is deprecated; in a future version of numpy, it will be understood as (type, (1,)) / '(1,)type'.\n",
      "  _np_quint8 = np.dtype([(\"quint8\", np.uint8, 1)])\n",
      "c:\\users\\shanm\\appdata\\local\\programs\\python\\python37\\lib\\site-packages\\tensorboard\\compat\\tensorflow_stub\\dtypes.py:543: FutureWarning: Passing (type, 1) or '1type' as a synonym of type is deprecated; in a future version of numpy, it will be understood as (type, (1,)) / '(1,)type'.\n",
      "  _np_qint16 = np.dtype([(\"qint16\", np.int16, 1)])\n",
      "c:\\users\\shanm\\appdata\\local\\programs\\python\\python37\\lib\\site-packages\\tensorboard\\compat\\tensorflow_stub\\dtypes.py:544: FutureWarning: Passing (type, 1) or '1type' as a synonym of type is deprecated; in a future version of numpy, it will be understood as (type, (1,)) / '(1,)type'.\n",
      "  _np_quint16 = np.dtype([(\"quint16\", np.uint16, 1)])\n",
      "c:\\users\\shanm\\appdata\\local\\programs\\python\\python37\\lib\\site-packages\\tensorboard\\compat\\tensorflow_stub\\dtypes.py:545: FutureWarning: Passing (type, 1) or '1type' as a synonym of type is deprecated; in a future version of numpy, it will be understood as (type, (1,)) / '(1,)type'.\n",
      "  _np_qint32 = np.dtype([(\"qint32\", np.int32, 1)])\n",
      "c:\\users\\shanm\\appdata\\local\\programs\\python\\python37\\lib\\site-packages\\tensorboard\\compat\\tensorflow_stub\\dtypes.py:550: FutureWarning: Passing (type, 1) or '1type' as a synonym of type is deprecated; in a future version of numpy, it will be understood as (type, (1,)) / '(1,)type'.\n",
      "  np_resource = np.dtype([(\"resource\", np.ubyte, 1)])\n"
     ]
    }
   ],
   "source": [
    "from keras.utils import np_utils\n",
    "y=np_utils.to_categorical(y, num_classes=len(labels))"
   ]
  },
  {
   "cell_type": "code",
   "execution_count": 13,
   "metadata": {},
   "outputs": [],
   "source": [
    "all_wave = np.array(all_wave).reshape(-1,8000,1)\n"
   ]
  },
  {
   "cell_type": "code",
   "execution_count": 14,
   "metadata": {},
   "outputs": [],
   "source": [
    "\n",
    "from sklearn.model_selection import train_test_split\n",
    "x_tr, x_val, y_tr, y_val = train_test_split(np.array(all_wave),np.array(y),stratify=y,test_size = 0.2,random_state=777,shuffle=True)"
   ]
  },
  {
   "cell_type": "code",
   "execution_count": 15,
   "metadata": {},
   "outputs": [
    {
     "name": "stdout",
     "output_type": "stream",
     "text": [
      "WARNING:tensorflow:From c:\\users\\shanm\\appdata\\local\\programs\\python\\python37\\lib\\site-packages\\keras\\backend\\tensorflow_backend.py:95: The name tf.reset_default_graph is deprecated. Please use tf.compat.v1.reset_default_graph instead.\n",
      "\n",
      "WARNING:tensorflow:From c:\\users\\shanm\\appdata\\local\\programs\\python\\python37\\lib\\site-packages\\keras\\backend\\tensorflow_backend.py:98: The name tf.placeholder_with_default is deprecated. Please use tf.compat.v1.placeholder_with_default instead.\n",
      "\n",
      "WARNING:tensorflow:From c:\\users\\shanm\\appdata\\local\\programs\\python\\python37\\lib\\site-packages\\keras\\backend\\tensorflow_backend.py:102: The name tf.get_default_graph is deprecated. Please use tf.compat.v1.get_default_graph instead.\n",
      "\n",
      "WARNING:tensorflow:From c:\\users\\shanm\\appdata\\local\\programs\\python\\python37\\lib\\site-packages\\keras\\backend\\tensorflow_backend.py:517: The name tf.placeholder is deprecated. Please use tf.compat.v1.placeholder instead.\n",
      "\n",
      "WARNING:tensorflow:From c:\\users\\shanm\\appdata\\local\\programs\\python\\python37\\lib\\site-packages\\keras\\backend\\tensorflow_backend.py:4138: The name tf.random_uniform is deprecated. Please use tf.random.uniform instead.\n",
      "\n",
      "WARNING:tensorflow:From c:\\users\\shanm\\appdata\\local\\programs\\python\\python37\\lib\\site-packages\\keras\\backend\\tensorflow_backend.py:3976: The name tf.nn.max_pool is deprecated. Please use tf.nn.max_pool2d instead.\n",
      "\n",
      "WARNING:tensorflow:From c:\\users\\shanm\\appdata\\local\\programs\\python\\python37\\lib\\site-packages\\keras\\backend\\tensorflow_backend.py:3445: calling dropout (from tensorflow.python.ops.nn_ops) with keep_prob is deprecated and will be removed in a future version.\n",
      "Instructions for updating:\n",
      "Please use `rate` instead of `keep_prob`. Rate should be set to `rate = 1 - keep_prob`.\n",
      "_________________________________________________________________\n",
      "Layer (type)                 Output Shape              Param #   \n",
      "=================================================================\n",
      "input_1 (InputLayer)         (None, 8000, 1)           0         \n",
      "_________________________________________________________________\n",
      "conv1d_1 (Conv1D)            (None, 7988, 8)           112       \n",
      "_________________________________________________________________\n",
      "max_pooling1d_1 (MaxPooling1 (None, 2662, 8)           0         \n",
      "_________________________________________________________________\n",
      "dropout_1 (Dropout)          (None, 2662, 8)           0         \n",
      "_________________________________________________________________\n",
      "conv1d_2 (Conv1D)            (None, 2652, 16)          1424      \n",
      "_________________________________________________________________\n",
      "max_pooling1d_2 (MaxPooling1 (None, 884, 16)           0         \n",
      "_________________________________________________________________\n",
      "dropout_2 (Dropout)          (None, 884, 16)           0         \n",
      "_________________________________________________________________\n",
      "conv1d_3 (Conv1D)            (None, 876, 32)           4640      \n",
      "_________________________________________________________________\n",
      "max_pooling1d_3 (MaxPooling1 (None, 292, 32)           0         \n",
      "_________________________________________________________________\n",
      "dropout_3 (Dropout)          (None, 292, 32)           0         \n",
      "_________________________________________________________________\n",
      "conv1d_4 (Conv1D)            (None, 286, 64)           14400     \n",
      "_________________________________________________________________\n",
      "max_pooling1d_4 (MaxPooling1 (None, 95, 64)            0         \n",
      "_________________________________________________________________\n",
      "dropout_4 (Dropout)          (None, 95, 64)            0         \n",
      "_________________________________________________________________\n",
      "flatten_1 (Flatten)          (None, 6080)              0         \n",
      "_________________________________________________________________\n",
      "dense_1 (Dense)              (None, 256)               1556736   \n",
      "_________________________________________________________________\n",
      "dropout_5 (Dropout)          (None, 256)               0         \n",
      "_________________________________________________________________\n",
      "dense_2 (Dense)              (None, 128)               32896     \n",
      "_________________________________________________________________\n",
      "dropout_6 (Dropout)          (None, 128)               0         \n",
      "_________________________________________________________________\n",
      "dense_3 (Dense)              (None, 8)                 1032      \n",
      "=================================================================\n",
      "Total params: 1,611,240\n",
      "Trainable params: 1,611,240\n",
      "Non-trainable params: 0\n",
      "_________________________________________________________________\n"
     ]
    }
   ],
   "source": [
    "from keras.layers import Dense, Dropout, Flatten, Conv1D, Input, MaxPooling1D\n",
    "from keras.models import Model\n",
    "from keras.callbacks import EarlyStopping, ModelCheckpoint\n",
    "from keras import backend as K\n",
    "K.clear_session()\n",
    "\n",
    "inputs = Input(shape=(8000,1))\n",
    "\n",
    "#First Conv1D layer\n",
    "conv = Conv1D(8,13, padding='valid', activation='relu', strides=1)(inputs)\n",
    "conv = MaxPooling1D(3)(conv)\n",
    "conv = Dropout(0.3)(conv)\n",
    "\n",
    "#Second Conv1D layer\n",
    "conv = Conv1D(16, 11, padding='valid', activation='relu', strides=1)(conv)\n",
    "conv = MaxPooling1D(3)(conv)\n",
    "conv = Dropout(0.3)(conv)\n",
    "\n",
    "#Third Conv1D layer\n",
    "conv = Conv1D(32, 9, padding='valid', activation='relu', strides=1)(conv)\n",
    "conv = MaxPooling1D(3)(conv)\n",
    "conv = Dropout(0.3)(conv)\n",
    "\n",
    "#Fourth Conv1D layer\n",
    "conv = Conv1D(64, 7, padding='valid', activation='relu', strides=1)(conv)\n",
    "conv = MaxPooling1D(3)(conv)\n",
    "conv = Dropout(0.3)(conv)\n",
    "\n",
    "#Flatten layer\n",
    "conv = Flatten()(conv)\n",
    "\n",
    "#Dense Layer 1\n",
    "conv = Dense(256, activation='relu')(conv)\n",
    "conv = Dropout(0.3)(conv)\n",
    "\n",
    "#Dense Layer 2\n",
    "conv = Dense(128, activation='relu')(conv)\n",
    "conv = Dropout(0.3)(conv)\n",
    "\n",
    "outputs = Dense(len(labels), activation='softmax')(conv)\n",
    "\n",
    "model = Model(inputs, outputs)\n",
    "model.summary()"
   ]
  },
  {
   "cell_type": "code",
   "execution_count": 16,
   "metadata": {},
   "outputs": [
    {
     "name": "stdout",
     "output_type": "stream",
     "text": [
      "WARNING:tensorflow:From c:\\users\\shanm\\appdata\\local\\programs\\python\\python37\\lib\\site-packages\\keras\\optimizers.py:790: The name tf.train.Optimizer is deprecated. Please use tf.compat.v1.train.Optimizer instead.\n",
      "\n"
     ]
    }
   ],
   "source": [
    "model.compile(loss='categorical_crossentropy',optimizer='adam',metrics=['accuracy'])\n"
   ]
  },
  {
   "cell_type": "code",
   "execution_count": 17,
   "metadata": {},
   "outputs": [
    {
     "name": "stdout",
     "output_type": "stream",
     "text": [
      "(10448, 8000, 1) (2613, 8000, 1) (10448, 8) (2613, 8)\n"
     ]
    }
   ],
   "source": [
    "es = EarlyStopping(monitor='val_loss', mode='min', verbose=1, patience=10, min_delta=0.0001) \n",
    "mc = ModelCheckpoint('voiceRecModel.hdf5', monitor='val_acc', verbose=1, save_best_only=True, mode='max')\n",
    "print(x_tr.shape, x_val.shape, y_tr.shape, y_val.shape)"
   ]
  },
  {
   "cell_type": "code",
   "execution_count": null,
   "metadata": {},
   "outputs": [
    {
     "name": "stdout",
     "output_type": "stream",
     "text": [
      "Train on 10448 samples, validate on 2613 samples\n",
      "Epoch 1/100\n",
      "10448/10448 [==============================] - 96s 9ms/step - loss: 0.7582 - acc: 0.7376 - val_loss: 0.6486 - val_acc: 0.7865\n",
      "\n",
      "Epoch 00001: val_acc improved from -inf to 0.78645, saving model to voiceRecModel.hdf5\n",
      "Epoch 2/100\n",
      "10448/10448 [==============================] - 97s 9ms/step - loss: 0.6369 - acc: 0.7841 - val_loss: 0.5768 - val_acc: 0.8052\n",
      "\n",
      "Epoch 00002: val_acc improved from 0.78645 to 0.80520, saving model to voiceRecModel.hdf5\n",
      "Epoch 3/100\n",
      "10448/10448 [==============================] - 84s 8ms/step - loss: 0.5941 - acc: 0.8005 - val_loss: 0.5060 - val_acc: 0.8351\n",
      "\n",
      "Epoch 00003: val_acc improved from 0.80520 to 0.83506, saving model to voiceRecModel.hdf5\n",
      "Epoch 4/100\n",
      "10448/10448 [==============================] - 90s 9ms/step - loss: 0.5299 - acc: 0.8228 - val_loss: 0.4827 - val_acc: 0.8366\n",
      "\n",
      "Epoch 00004: val_acc improved from 0.83506 to 0.83659, saving model to voiceRecModel.hdf5\n",
      "Epoch 5/100\n",
      "10448/10448 [==============================] - 98s 9ms/step - loss: 0.4749 - acc: 0.8396 - val_loss: 0.4869 - val_acc: 0.8435\n",
      "\n",
      "Epoch 00005: val_acc improved from 0.83659 to 0.84347, saving model to voiceRecModel.hdf5\n",
      "Epoch 6/100\n",
      "10448/10448 [==============================] - 93s 9ms/step - loss: 0.4411 - acc: 0.8538 - val_loss: 0.5268 - val_acc: 0.8351\n",
      "\n",
      "Epoch 00006: val_acc did not improve from 0.84347\n",
      "Epoch 7/100\n",
      "10448/10448 [==============================] - 92s 9ms/step - loss: 0.4285 - acc: 0.8550 - val_loss: 0.4029 - val_acc: 0.8672\n",
      "\n",
      "Epoch 00007: val_acc improved from 0.84347 to 0.86720, saving model to voiceRecModel.hdf5\n",
      "Epoch 8/100\n",
      "10448/10448 [==============================] - 90s 9ms/step - loss: 0.3857 - acc: 0.8690 - val_loss: 0.4572 - val_acc: 0.8485\n",
      "\n",
      "Epoch 00008: val_acc did not improve from 0.86720\n",
      "Epoch 9/100\n",
      "10080/10448 [===========================>..] - ETA: 3s - loss: 0.3746 - acc: 0.8749"
     ]
    }
   ],
   "source": [
    "history=model.fit(x_tr, y_tr ,epochs=100, callbacks=[es,mc], batch_size=32, validation_data=(x_val,y_val))\n"
   ]
  },
  {
   "cell_type": "code",
   "execution_count": 50,
   "metadata": {},
   "outputs": [],
   "source": [
    "model.save(\"voiceRecModel.hdf5\")"
   ]
  },
  {
   "cell_type": "markdown",
   "metadata": {},
   "source": [
    "# Model Test"
   ]
  },
  {
   "cell_type": "code",
   "execution_count": 25,
   "metadata": {},
   "outputs": [
    {
     "ename": "ValueError",
     "evalue": "Unknown layer: Functional",
     "output_type": "error",
     "traceback": [
      "\u001b[1;31m---------------------------------------------------------------------------\u001b[0m",
      "\u001b[1;31mValueError\u001b[0m                                Traceback (most recent call last)",
      "\u001b[1;32m~\\AppData\\Local\\Temp\\ipykernel_4692\\4226435309.py\u001b[0m in \u001b[0;36m<module>\u001b[1;34m\u001b[0m\n\u001b[0;32m      1\u001b[0m \u001b[1;32mfrom\u001b[0m \u001b[0mkeras\u001b[0m\u001b[1;33m.\u001b[0m\u001b[0mmodels\u001b[0m \u001b[1;32mimport\u001b[0m \u001b[0mload_model\u001b[0m\u001b[1;33m\u001b[0m\u001b[1;33m\u001b[0m\u001b[0m\n\u001b[0;32m      2\u001b[0m \u001b[1;33m\u001b[0m\u001b[0m\n\u001b[1;32m----> 3\u001b[1;33m \u001b[0mmodel\u001b[0m \u001b[1;33m=\u001b[0m \u001b[0mload_model\u001b[0m\u001b[1;33m(\u001b[0m\u001b[1;34m\"voiceRecModel.hdf5\"\u001b[0m\u001b[1;33m)\u001b[0m\u001b[1;33m\u001b[0m\u001b[1;33m\u001b[0m\u001b[0m\n\u001b[0m",
      "\u001b[1;32mc:\\users\\shanm\\appdata\\local\\programs\\python\\python37\\lib\\site-packages\\keras\\engine\\saving.py\u001b[0m in \u001b[0;36mload_model\u001b[1;34m(filepath, custom_objects, compile)\u001b[0m\n\u001b[0;32m    417\u001b[0m     \u001b[0mf\u001b[0m \u001b[1;33m=\u001b[0m \u001b[0mh5dict\u001b[0m\u001b[1;33m(\u001b[0m\u001b[0mfilepath\u001b[0m\u001b[1;33m,\u001b[0m \u001b[1;34m'r'\u001b[0m\u001b[1;33m)\u001b[0m\u001b[1;33m\u001b[0m\u001b[1;33m\u001b[0m\u001b[0m\n\u001b[0;32m    418\u001b[0m     \u001b[1;32mtry\u001b[0m\u001b[1;33m:\u001b[0m\u001b[1;33m\u001b[0m\u001b[1;33m\u001b[0m\u001b[0m\n\u001b[1;32m--> 419\u001b[1;33m         \u001b[0mmodel\u001b[0m \u001b[1;33m=\u001b[0m \u001b[0m_deserialize_model\u001b[0m\u001b[1;33m(\u001b[0m\u001b[0mf\u001b[0m\u001b[1;33m,\u001b[0m \u001b[0mcustom_objects\u001b[0m\u001b[1;33m,\u001b[0m \u001b[0mcompile\u001b[0m\u001b[1;33m)\u001b[0m\u001b[1;33m\u001b[0m\u001b[1;33m\u001b[0m\u001b[0m\n\u001b[0m\u001b[0;32m    420\u001b[0m     \u001b[1;32mfinally\u001b[0m\u001b[1;33m:\u001b[0m\u001b[1;33m\u001b[0m\u001b[1;33m\u001b[0m\u001b[0m\n\u001b[0;32m    421\u001b[0m         \u001b[1;32mif\u001b[0m \u001b[0mopened_new_file\u001b[0m\u001b[1;33m:\u001b[0m\u001b[1;33m\u001b[0m\u001b[1;33m\u001b[0m\u001b[0m\n",
      "\u001b[1;32mc:\\users\\shanm\\appdata\\local\\programs\\python\\python37\\lib\\site-packages\\keras\\engine\\saving.py\u001b[0m in \u001b[0;36m_deserialize_model\u001b[1;34m(f, custom_objects, compile)\u001b[0m\n\u001b[0;32m    223\u001b[0m         \u001b[1;32mraise\u001b[0m \u001b[0mValueError\u001b[0m\u001b[1;33m(\u001b[0m\u001b[1;34m'No model found in config.'\u001b[0m\u001b[1;33m)\u001b[0m\u001b[1;33m\u001b[0m\u001b[1;33m\u001b[0m\u001b[0m\n\u001b[0;32m    224\u001b[0m     \u001b[0mmodel_config\u001b[0m \u001b[1;33m=\u001b[0m \u001b[0mjson\u001b[0m\u001b[1;33m.\u001b[0m\u001b[0mloads\u001b[0m\u001b[1;33m(\u001b[0m\u001b[0mmodel_config\u001b[0m\u001b[1;33m.\u001b[0m\u001b[0mdecode\u001b[0m\u001b[1;33m(\u001b[0m\u001b[1;34m'utf-8'\u001b[0m\u001b[1;33m)\u001b[0m\u001b[1;33m)\u001b[0m\u001b[1;33m\u001b[0m\u001b[1;33m\u001b[0m\u001b[0m\n\u001b[1;32m--> 225\u001b[1;33m     \u001b[0mmodel\u001b[0m \u001b[1;33m=\u001b[0m \u001b[0mmodel_from_config\u001b[0m\u001b[1;33m(\u001b[0m\u001b[0mmodel_config\u001b[0m\u001b[1;33m,\u001b[0m \u001b[0mcustom_objects\u001b[0m\u001b[1;33m=\u001b[0m\u001b[0mcustom_objects\u001b[0m\u001b[1;33m)\u001b[0m\u001b[1;33m\u001b[0m\u001b[1;33m\u001b[0m\u001b[0m\n\u001b[0m\u001b[0;32m    226\u001b[0m     \u001b[0mmodel_weights_group\u001b[0m \u001b[1;33m=\u001b[0m \u001b[0mf\u001b[0m\u001b[1;33m[\u001b[0m\u001b[1;34m'model_weights'\u001b[0m\u001b[1;33m]\u001b[0m\u001b[1;33m\u001b[0m\u001b[1;33m\u001b[0m\u001b[0m\n\u001b[0;32m    227\u001b[0m \u001b[1;33m\u001b[0m\u001b[0m\n",
      "\u001b[1;32mc:\\users\\shanm\\appdata\\local\\programs\\python\\python37\\lib\\site-packages\\keras\\engine\\saving.py\u001b[0m in \u001b[0;36mmodel_from_config\u001b[1;34m(config, custom_objects)\u001b[0m\n\u001b[0;32m    456\u001b[0m                         '`Sequential.from_config(config)`?')\n\u001b[0;32m    457\u001b[0m     \u001b[1;32mfrom\u001b[0m \u001b[1;33m.\u001b[0m\u001b[1;33m.\u001b[0m\u001b[0mlayers\u001b[0m \u001b[1;32mimport\u001b[0m \u001b[0mdeserialize\u001b[0m\u001b[1;33m\u001b[0m\u001b[1;33m\u001b[0m\u001b[0m\n\u001b[1;32m--> 458\u001b[1;33m     \u001b[1;32mreturn\u001b[0m \u001b[0mdeserialize\u001b[0m\u001b[1;33m(\u001b[0m\u001b[0mconfig\u001b[0m\u001b[1;33m,\u001b[0m \u001b[0mcustom_objects\u001b[0m\u001b[1;33m=\u001b[0m\u001b[0mcustom_objects\u001b[0m\u001b[1;33m)\u001b[0m\u001b[1;33m\u001b[0m\u001b[1;33m\u001b[0m\u001b[0m\n\u001b[0m\u001b[0;32m    459\u001b[0m \u001b[1;33m\u001b[0m\u001b[0m\n\u001b[0;32m    460\u001b[0m \u001b[1;33m\u001b[0m\u001b[0m\n",
      "\u001b[1;32mc:\\users\\shanm\\appdata\\local\\programs\\python\\python37\\lib\\site-packages\\keras\\layers\\__init__.py\u001b[0m in \u001b[0;36mdeserialize\u001b[1;34m(config, custom_objects)\u001b[0m\n\u001b[0;32m     53\u001b[0m                                     \u001b[0mmodule_objects\u001b[0m\u001b[1;33m=\u001b[0m\u001b[0mglobs\u001b[0m\u001b[1;33m,\u001b[0m\u001b[1;33m\u001b[0m\u001b[1;33m\u001b[0m\u001b[0m\n\u001b[0;32m     54\u001b[0m                                     \u001b[0mcustom_objects\u001b[0m\u001b[1;33m=\u001b[0m\u001b[0mcustom_objects\u001b[0m\u001b[1;33m,\u001b[0m\u001b[1;33m\u001b[0m\u001b[1;33m\u001b[0m\u001b[0m\n\u001b[1;32m---> 55\u001b[1;33m                                     printable_module_name='layer')\n\u001b[0m",
      "\u001b[1;32mc:\\users\\shanm\\appdata\\local\\programs\\python\\python37\\lib\\site-packages\\keras\\utils\\generic_utils.py\u001b[0m in \u001b[0;36mdeserialize_keras_object\u001b[1;34m(identifier, module_objects, custom_objects, printable_module_name)\u001b[0m\n\u001b[0;32m    136\u001b[0m             \u001b[1;32mif\u001b[0m \u001b[0mcls\u001b[0m \u001b[1;32mis\u001b[0m \u001b[1;32mNone\u001b[0m\u001b[1;33m:\u001b[0m\u001b[1;33m\u001b[0m\u001b[1;33m\u001b[0m\u001b[0m\n\u001b[0;32m    137\u001b[0m                 raise ValueError('Unknown ' + printable_module_name +\n\u001b[1;32m--> 138\u001b[1;33m                                  ': ' + class_name)\n\u001b[0m\u001b[0;32m    139\u001b[0m         \u001b[1;32mif\u001b[0m \u001b[0mhasattr\u001b[0m\u001b[1;33m(\u001b[0m\u001b[0mcls\u001b[0m\u001b[1;33m,\u001b[0m \u001b[1;34m'from_config'\u001b[0m\u001b[1;33m)\u001b[0m\u001b[1;33m:\u001b[0m\u001b[1;33m\u001b[0m\u001b[1;33m\u001b[0m\u001b[0m\n\u001b[0;32m    140\u001b[0m             \u001b[0mcustom_objects\u001b[0m \u001b[1;33m=\u001b[0m \u001b[0mcustom_objects\u001b[0m \u001b[1;32mor\u001b[0m \u001b[1;33m{\u001b[0m\u001b[1;33m}\u001b[0m\u001b[1;33m\u001b[0m\u001b[1;33m\u001b[0m\u001b[0m\n",
      "\u001b[1;31mValueError\u001b[0m: Unknown layer: Functional"
     ]
    }
   ],
   "source": [
    "from keras.models import load_model\n",
    "\n",
    "model = load_model(\"voiceRecModel.hdf5\")"
   ]
  },
  {
   "cell_type": "code",
   "execution_count": 19,
   "metadata": {},
   "outputs": [
    {
     "name": "stdout",
     "output_type": "stream",
     "text": [
      "Audio: five\n"
     ]
    },
    {
     "data": {
      "text/html": [
       "\n",
       "                <audio  controls=\"controls\" >\n",
       "                    <source src=\"data:audio/wav;base64,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\" type=\"audio/wav\" />\n",
       "                    Your browser does not support the audio element.\n",
       "                </audio>\n",
       "              "
      ],
      "text/plain": [
       "<IPython.lib.display.Audio object>"
      ]
     },
     "execution_count": 19,
     "metadata": {},
     "output_type": "execute_result"
    }
   ],
   "source": [
    "def predict(audio):\n",
    "    prob=model.predict(audio.reshape(1,8000,1))\n",
    "    index=np.argmax(prob[0])\n",
    "    return classes[index]\n",
    "\n",
    "import random\n",
    "index=random.randint(0,len(x_val)-1)\n",
    "samples=x_val[index].ravel()\n",
    "print(\"Audio:\",classes[np.argmax(y_val[index])])\n",
    "ipd.Audio(samples, rate=8000)\n",
    "\n"
   ]
  },
  {
   "cell_type": "code",
   "execution_count": 21,
   "metadata": {},
   "outputs": [
    {
     "name": "stdout",
     "output_type": "stream",
     "text": [
      "Text: bird\n"
     ]
    }
   ],
   "source": [
    "print(\"Text:\",predict(samples))"
   ]
  }
 ],
 "metadata": {
  "kernelspec": {
   "display_name": "Python 3 (ipykernel)",
   "language": "python",
   "name": "python3"
  },
  "language_info": {
   "codemirror_mode": {
    "name": "ipython",
    "version": 3
   },
   "file_extension": ".py",
   "mimetype": "text/x-python",
   "name": "python",
   "nbconvert_exporter": "python",
   "pygments_lexer": "ipython3",
   "version": "3.7.8"
  }
 },
 "nbformat": 4,
 "nbformat_minor": 4
}
